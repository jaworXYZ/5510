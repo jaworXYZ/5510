{
 "cells": [
  {
   "cell_type": "markdown",
   "id": "c28e8017",
   "metadata": {},
   "source": [
    "# Airline Tweet Sentiment Analysis Using Unsupervised Methods\n",
    "\n",
    "This is an old dataset from 2015. It is available now on [Kaggle](https://www.kaggle.com/datasets/crowdflower/twitter-airline-sentiment?select=Tweets.csv) though the original source now seems to be defunct. It is a collection of tweets directed at various US airlines. The tweets have been labeled according to their sentiment.\n",
    "\n",
    "For this project, we will compare the performance on this dataset of three unsupervised methods: NMF, Kmeans, and Expectation-Maximization."
   ]
  },
  {
   "cell_type": "code",
   "execution_count": 1,
   "id": "8b1c4f39",
   "metadata": {
    "ExecuteTime": {
     "end_time": "2023-03-06T08:46:48.836328Z",
     "start_time": "2023-03-06T08:46:46.498376Z"
    }
   },
   "outputs": [],
   "source": [
    "import numpy as np\n",
    "import pandas as pd\n",
    "\n",
    "import matplotlib.pyplot as plt\n",
    "import seaborn as sns\n",
    "import time\n",
    "\n",
    "'''\n",
    "# only needed if converting text (Part 1b)\n",
    "\n",
    "import re\n",
    "\n",
    "# only needed if lemmatizing is desired (Part 1b)\n",
    "\n",
    "from nltk.stem.wordnet import WordNetLemmatizer\n",
    "from nltk import word_tokenize\n",
    "nltk.download('wordnet')\n",
    "nltk.download('omw-1.4')\n",
    "'''\n",
    "from itertools import permutations\n",
    "from sklearn.model_selection import train_test_split\n",
    "from sklearn.metrics import confusion_matrix, f1_score\n",
    "\n",
    "from sklearn.feature_extraction.text import TfidfVectorizer\n",
    "from sklearn.decomposition import NMF\n",
    "from sklearn.decomposition import TruncatedSVD\n",
    "from sklearn.cluster import KMeans\n",
    "from sklearn.mixture import GaussianMixture"
   ]
  },
  {
   "cell_type": "markdown",
   "id": "0cee7b45",
   "metadata": {},
   "source": [
    "# 1) EDA, Cleaning, & Preparation"
   ]
  },
  {
   "cell_type": "code",
   "execution_count": 2,
   "id": "5f265cd7",
   "metadata": {
    "ExecuteTime": {
     "end_time": "2023-03-06T08:46:48.976521Z",
     "start_time": "2023-03-06T08:46:48.843324Z"
    },
    "scrolled": false
   },
   "outputs": [
    {
     "data": {
      "text/html": [
       "<div>\n",
       "<style scoped>\n",
       "    .dataframe tbody tr th:only-of-type {\n",
       "        vertical-align: middle;\n",
       "    }\n",
       "\n",
       "    .dataframe tbody tr th {\n",
       "        vertical-align: top;\n",
       "    }\n",
       "\n",
       "    .dataframe thead th {\n",
       "        text-align: right;\n",
       "    }\n",
       "</style>\n",
       "<table border=\"1\" class=\"dataframe\">\n",
       "  <thead>\n",
       "    <tr style=\"text-align: right;\">\n",
       "      <th></th>\n",
       "      <th>tweet_id</th>\n",
       "      <th>airline_sentiment</th>\n",
       "      <th>airline_sentiment_confidence</th>\n",
       "      <th>negativereason</th>\n",
       "      <th>negativereason_confidence</th>\n",
       "      <th>airline</th>\n",
       "      <th>airline_sentiment_gold</th>\n",
       "      <th>name</th>\n",
       "      <th>negativereason_gold</th>\n",
       "      <th>retweet_count</th>\n",
       "      <th>text</th>\n",
       "      <th>tweet_coord</th>\n",
       "      <th>tweet_created</th>\n",
       "      <th>tweet_location</th>\n",
       "      <th>user_timezone</th>\n",
       "    </tr>\n",
       "  </thead>\n",
       "  <tbody>\n",
       "    <tr>\n",
       "      <th>0</th>\n",
       "      <td>570306133677760513</td>\n",
       "      <td>neutral</td>\n",
       "      <td>1.0000</td>\n",
       "      <td>NaN</td>\n",
       "      <td>NaN</td>\n",
       "      <td>Virgin America</td>\n",
       "      <td>NaN</td>\n",
       "      <td>cairdin</td>\n",
       "      <td>NaN</td>\n",
       "      <td>0</td>\n",
       "      <td>@VirginAmerica What @dhepburn said.</td>\n",
       "      <td>NaN</td>\n",
       "      <td>2015-02-24 11:35:52 -0800</td>\n",
       "      <td>NaN</td>\n",
       "      <td>Eastern Time (US &amp; Canada)</td>\n",
       "    </tr>\n",
       "    <tr>\n",
       "      <th>1</th>\n",
       "      <td>570301130888122368</td>\n",
       "      <td>positive</td>\n",
       "      <td>0.3486</td>\n",
       "      <td>NaN</td>\n",
       "      <td>0.0000</td>\n",
       "      <td>Virgin America</td>\n",
       "      <td>NaN</td>\n",
       "      <td>jnardino</td>\n",
       "      <td>NaN</td>\n",
       "      <td>0</td>\n",
       "      <td>@VirginAmerica plus you've added commercials t...</td>\n",
       "      <td>NaN</td>\n",
       "      <td>2015-02-24 11:15:59 -0800</td>\n",
       "      <td>NaN</td>\n",
       "      <td>Pacific Time (US &amp; Canada)</td>\n",
       "    </tr>\n",
       "    <tr>\n",
       "      <th>2</th>\n",
       "      <td>570301083672813571</td>\n",
       "      <td>neutral</td>\n",
       "      <td>0.6837</td>\n",
       "      <td>NaN</td>\n",
       "      <td>NaN</td>\n",
       "      <td>Virgin America</td>\n",
       "      <td>NaN</td>\n",
       "      <td>yvonnalynn</td>\n",
       "      <td>NaN</td>\n",
       "      <td>0</td>\n",
       "      <td>@VirginAmerica I didn't today... Must mean I n...</td>\n",
       "      <td>NaN</td>\n",
       "      <td>2015-02-24 11:15:48 -0800</td>\n",
       "      <td>Lets Play</td>\n",
       "      <td>Central Time (US &amp; Canada)</td>\n",
       "    </tr>\n",
       "    <tr>\n",
       "      <th>3</th>\n",
       "      <td>570301031407624196</td>\n",
       "      <td>negative</td>\n",
       "      <td>1.0000</td>\n",
       "      <td>Bad Flight</td>\n",
       "      <td>0.7033</td>\n",
       "      <td>Virgin America</td>\n",
       "      <td>NaN</td>\n",
       "      <td>jnardino</td>\n",
       "      <td>NaN</td>\n",
       "      <td>0</td>\n",
       "      <td>@VirginAmerica it's really aggressive to blast...</td>\n",
       "      <td>NaN</td>\n",
       "      <td>2015-02-24 11:15:36 -0800</td>\n",
       "      <td>NaN</td>\n",
       "      <td>Pacific Time (US &amp; Canada)</td>\n",
       "    </tr>\n",
       "    <tr>\n",
       "      <th>4</th>\n",
       "      <td>570300817074462722</td>\n",
       "      <td>negative</td>\n",
       "      <td>1.0000</td>\n",
       "      <td>Can't Tell</td>\n",
       "      <td>1.0000</td>\n",
       "      <td>Virgin America</td>\n",
       "      <td>NaN</td>\n",
       "      <td>jnardino</td>\n",
       "      <td>NaN</td>\n",
       "      <td>0</td>\n",
       "      <td>@VirginAmerica and it's a really big bad thing...</td>\n",
       "      <td>NaN</td>\n",
       "      <td>2015-02-24 11:14:45 -0800</td>\n",
       "      <td>NaN</td>\n",
       "      <td>Pacific Time (US &amp; Canada)</td>\n",
       "    </tr>\n",
       "  </tbody>\n",
       "</table>\n",
       "</div>"
      ],
      "text/plain": [
       "             tweet_id airline_sentiment  airline_sentiment_confidence  \\\n",
       "0  570306133677760513           neutral                        1.0000   \n",
       "1  570301130888122368          positive                        0.3486   \n",
       "2  570301083672813571           neutral                        0.6837   \n",
       "3  570301031407624196          negative                        1.0000   \n",
       "4  570300817074462722          negative                        1.0000   \n",
       "\n",
       "  negativereason  negativereason_confidence         airline  \\\n",
       "0            NaN                        NaN  Virgin America   \n",
       "1            NaN                     0.0000  Virgin America   \n",
       "2            NaN                        NaN  Virgin America   \n",
       "3     Bad Flight                     0.7033  Virgin America   \n",
       "4     Can't Tell                     1.0000  Virgin America   \n",
       "\n",
       "  airline_sentiment_gold        name negativereason_gold  retweet_count  \\\n",
       "0                    NaN     cairdin                 NaN              0   \n",
       "1                    NaN    jnardino                 NaN              0   \n",
       "2                    NaN  yvonnalynn                 NaN              0   \n",
       "3                    NaN    jnardino                 NaN              0   \n",
       "4                    NaN    jnardino                 NaN              0   \n",
       "\n",
       "                                                text tweet_coord  \\\n",
       "0                @VirginAmerica What @dhepburn said.         NaN   \n",
       "1  @VirginAmerica plus you've added commercials t...         NaN   \n",
       "2  @VirginAmerica I didn't today... Must mean I n...         NaN   \n",
       "3  @VirginAmerica it's really aggressive to blast...         NaN   \n",
       "4  @VirginAmerica and it's a really big bad thing...         NaN   \n",
       "\n",
       "               tweet_created tweet_location               user_timezone  \n",
       "0  2015-02-24 11:35:52 -0800            NaN  Eastern Time (US & Canada)  \n",
       "1  2015-02-24 11:15:59 -0800            NaN  Pacific Time (US & Canada)  \n",
       "2  2015-02-24 11:15:48 -0800      Lets Play  Central Time (US & Canada)  \n",
       "3  2015-02-24 11:15:36 -0800            NaN  Pacific Time (US & Canada)  \n",
       "4  2015-02-24 11:14:45 -0800            NaN  Pacific Time (US & Canada)  "
      ]
     },
     "execution_count": 2,
     "metadata": {},
     "output_type": "execute_result"
    }
   ],
   "source": [
    "df = pd.read_csv('Tweets.csv')\n",
    "df.head()"
   ]
  },
  {
   "cell_type": "markdown",
   "id": "c89c1c48",
   "metadata": {},
   "source": [
    "We are mostly interested in the *text* of the tweets themselves, rather than the metadata, however it is worth seeing what is available."
   ]
  },
  {
   "cell_type": "code",
   "execution_count": 3,
   "id": "ff428138",
   "metadata": {
    "ExecuteTime": {
     "end_time": "2023-03-06T08:46:49.007259Z",
     "start_time": "2023-03-06T08:46:48.978895Z"
    }
   },
   "outputs": [
    {
     "data": {
      "text/plain": [
       "tweet_id                        14485\n",
       "airline_sentiment                   3\n",
       "airline_sentiment_confidence     1023\n",
       "negativereason                     10\n",
       "negativereason_confidence        1410\n",
       "airline                             6\n",
       "airline_sentiment_gold              3\n",
       "name                             7701\n",
       "negativereason_gold                13\n",
       "retweet_count                      18\n",
       "text                            14427\n",
       "tweet_coord                       832\n",
       "tweet_created                   14247\n",
       "tweet_location                   3081\n",
       "user_timezone                      85\n",
       "dtype: int64"
      ]
     },
     "execution_count": 3,
     "metadata": {},
     "output_type": "execute_result"
    }
   ],
   "source": [
    "#Check number of unique values in each feature\n",
    "df.nunique()"
   ]
  },
  {
   "cell_type": "markdown",
   "id": "37e91a2c",
   "metadata": {},
   "source": [
    "> Takeaways: \n",
    "> \n",
    "> - *airline_sentiment_confidence* may suggest inclusion/exclusion in dataset; shouldn't be included in features\n",
    "> - *negativereason* shouldn't be included in features\n",
    "> - unclear what *airline_sentiment_gold* and *negativereason_gold* might be; unlikely to appropriate for inclusion\n",
    "> - *name* is unlikely to be useful\n",
    "> - *text* has 14247 uniques vs 14485 total, suggesting duplicates and/or *NaN* values\n",
    "> - *tweet_coord*, *tweet_created*, *tweet_location*, *user_timezone* may be interesting, but likely unnecessary or inappropriate for inclusion as features. Given the 85 unique timezones, some cleaning must be required (there should only be 24 I believe, maybe double if DST is factored in, but certainly <85)."
   ]
  },
  {
   "cell_type": "code",
   "execution_count": 4,
   "id": "d1f4f4d7",
   "metadata": {
    "ExecuteTime": {
     "end_time": "2023-03-06T08:46:49.333845Z",
     "start_time": "2023-03-06T08:46:49.010251Z"
    },
    "scrolled": false
   },
   "outputs": [
    {
     "data": {
      "image/png": "[encoded data removed]",
      "text/plain": [
       "<Figure size 1008x504 with 2 Axes>"
      ]
     },
     "metadata": {
      "needs_background": "light"
     },
     "output_type": "display_data"
    }
   ],
   "source": [
    "# First investigate primary series of interest: airline_sentiment\n",
    "# also, look at airline_sentiment_confidence\n",
    "fig, axs = plt.subplots(1,2, figsize=(14,7))\n",
    "sns.histplot(df.airline_sentiment, ax=axs[0])\n",
    "sns.histplot(df.airline_sentiment_confidence, ax=axs[1])\n",
    "plt.show()"
   ]
  },
  {
   "cell_type": "markdown",
   "id": "ceec8346",
   "metadata": {},
   "source": [
    "> - We have a class imbalance that we should keep in mind.\n",
    "> - The vast majority of labels have a confidence of 1.0."
   ]
  },
  {
   "cell_type": "code",
   "execution_count": 5,
   "id": "25e47f1b",
   "metadata": {
    "ExecuteTime": {
     "end_time": "2023-03-06T08:46:49.349275Z",
     "start_time": "2023-03-06T08:46:49.336350Z"
    }
   },
   "outputs": [
    {
     "data": {
      "text/plain": [
       "(10445, 15)"
      ]
     },
     "execution_count": 5,
     "metadata": {},
     "output_type": "execute_result"
    }
   ],
   "source": [
    "# remove tweets with sentiment confidence below 1.0 (no sense in training or evaluating with unrealiable labels)\n",
    "df_lim = df[df.airline_sentiment_confidence==1]\n",
    "df_lim.shape"
   ]
  },
  {
   "cell_type": "code",
   "execution_count": 6,
   "id": "fce2d0ad",
   "metadata": {
    "ExecuteTime": {
     "end_time": "2023-03-06T08:46:49.365152Z",
     "start_time": "2023-03-06T08:46:49.351271Z"
    }
   },
   "outputs": [],
   "source": [
    "# Remove duplicate \n",
    "df_lim = df_lim[df_lim.text.duplicated()==False]"
   ]
  },
  {
   "cell_type": "code",
   "execution_count": 7,
   "id": "eac3b959",
   "metadata": {
    "ExecuteTime": {
     "end_time": "2023-03-06T08:46:49.397242Z",
     "start_time": "2023-03-06T08:46:49.368201Z"
    }
   },
   "outputs": [
    {
     "name": "stdout",
     "output_type": "stream",
     "text": [
      "<class 'pandas.core.frame.DataFrame'>\n",
      "Int64Index: 10344 entries, 0 to 14638\n",
      "Data columns (total 15 columns):\n",
      " #   Column                        Non-Null Count  Dtype  \n",
      "---  ------                        --------------  -----  \n",
      " 0   tweet_id                      10344 non-null  int64  \n",
      " 1   airline_sentiment             10344 non-null  object \n",
      " 2   airline_sentiment_confidence  10344 non-null  float64\n",
      " 3   negativereason                7317 non-null   object \n",
      " 4   negativereason_confidence     7317 non-null   float64\n",
      " 5   airline                       10344 non-null  object \n",
      " 6   airline_sentiment_gold        23 non-null     object \n",
      " 7   name                          10344 non-null  object \n",
      " 8   negativereason_gold           20 non-null     object \n",
      " 9   retweet_count                 10344 non-null  int64  \n",
      " 10  text                          10344 non-null  object \n",
      " 11  tweet_coord                   734 non-null    object \n",
      " 12  tweet_created                 10344 non-null  object \n",
      " 13  tweet_location                6920 non-null   object \n",
      " 14  user_timezone                 6877 non-null   object \n",
      "dtypes: float64(2), int64(2), object(11)\n",
      "memory usage: 1.3+ MB\n"
     ]
    }
   ],
   "source": [
    "df_lim.info()"
   ]
  },
  {
   "cell_type": "markdown",
   "id": "9eb53ebd",
   "metadata": {},
   "source": [
    "> 10,000+ tweets remaining"
   ]
  },
  {
   "cell_type": "code",
   "execution_count": 8,
   "id": "d3a7dab8",
   "metadata": {
    "ExecuteTime": {
     "end_time": "2023-03-06T08:46:51.007329Z",
     "start_time": "2023-03-06T08:46:49.399240Z"
    },
    "scrolled": false
   },
   "outputs": [
    {
     "data": {
      "image/png": "[encoded data removed]",
      "text/plain": [
       "<Figure size 1440x1440 with 6 Axes>"
      ]
     },
     "metadata": {
      "needs_background": "light"
     },
     "output_type": "display_data"
    }
   ],
   "source": [
    "fig, axs = plt.subplots(3, 2, figsize=(20,20))\n",
    "sns.histplot(df_lim.airline_sentiment, ax=axs[0, 0])\n",
    "sns.histplot(df_lim.negativereason, ax=axs[0, 1])\n",
    "sns.histplot(df_lim.airline, ax=axs[1, 0])\n",
    "sns.histplot(df_lim.airline_sentiment_gold, ax=axs[1, 1])\n",
    "sns.histplot(df_lim.retweet_count, ax=axs[2, 0])\n",
    "sns.histplot(df_lim.user_timezone, ax=axs[2, 1])\n",
    "plt.show()"
   ]
  },
  {
   "cell_type": "markdown",
   "id": "1f0c74a3",
   "metadata": {},
   "source": [
    "> - *airline_sentiment* appears to be balanced in a roughly similar fashion\n",
    "> - Nothing interesting stands out for *negativereason*, *airline*, and *user_timezone*\n",
    "> - It's unclear what *airline_sentiment_gold* represents, but the distribution is similar to the original sentiment\n",
    "> - The timezones with high counts likely represent ones corresponding to the US."
   ]
  },
  {
   "cell_type": "code",
   "execution_count": 9,
   "id": "35c925db",
   "metadata": {
    "ExecuteTime": {
     "end_time": "2023-03-06T08:46:51.022666Z",
     "start_time": "2023-03-06T08:46:51.009281Z"
    }
   },
   "outputs": [
    {
     "data": {
      "text/plain": [
       "0     9723\n",
       "1      529\n",
       "2       50\n",
       "3       17\n",
       "4       12\n",
       "5        4\n",
       "6        2\n",
       "22       1\n",
       "31       1\n",
       "11       1\n",
       "8        1\n",
       "9        1\n",
       "32       1\n",
       "44       1\n",
       "Name: retweet_count, dtype: int64"
      ]
     },
     "execution_count": 9,
     "metadata": {},
     "output_type": "execute_result"
    }
   ],
   "source": [
    "df_lim.retweet_count.value_counts()"
   ]
  },
  {
   "cell_type": "markdown",
   "id": "71b6eaf0",
   "metadata": {},
   "source": [
    "> It's very clear that most tweets have zero retweets. If we include this as a feature, it may be better to include it as a binary value (\"retweeted\"). We will leave it out for now, and revisit it if needed.\n",
    "\n",
    "Let's move on to looking at the tweets themselves"
   ]
  },
  {
   "cell_type": "code",
   "execution_count": 10,
   "id": "1f8dd2f0",
   "metadata": {
    "ExecuteTime": {
     "end_time": "2023-03-06T08:46:51.053152Z",
     "start_time": "2023-03-06T08:46:51.033740Z"
    }
   },
   "outputs": [
    {
     "data": {
      "text/plain": [
       "0"
      ]
     },
     "execution_count": 10,
     "metadata": {},
     "output_type": "execute_result"
    }
   ],
   "source": [
    "df_lim.text.isnull().sum()"
   ]
  },
  {
   "cell_type": "code",
   "execution_count": 11,
   "id": "cf790250",
   "metadata": {
    "ExecuteTime": {
     "end_time": "2023-03-06T08:46:51.068835Z",
     "start_time": "2023-03-06T08:46:51.056161Z"
    }
   },
   "outputs": [
    {
     "name": "stdout",
     "output_type": "stream",
     "text": [
      "@VirginAmerica What @dhepburn said.\n",
      "@virginamerica #flight home to #dc #sunset #globe in' #backtowinter back to #work! #refreshed http://t.co/VX9vBCTdLf\n",
      "@VirginAmerica Results Handily Exceed Forecasts - @NYTimes http://t.co/gonmRwEM6I\n",
      "@VirginAmerica I love the dancing little richard. cool beans.\n",
      "@united does this process ever end? Still waiting for the reply since 2 months #pathetic #customerservice\n"
     ]
    }
   ],
   "source": [
    "print(*(df_lim.text.iloc[i] for i in range(0,500,100)), sep='\\n')"
   ]
  },
  {
   "cell_type": "markdown",
   "id": "051c0e13",
   "metadata": {},
   "source": [
    "> The tweets don't appear to been cleaned. The tweets include special symbols, including those for hashtags and @mentions. They also include capitalization and links."
   ]
  },
  {
   "cell_type": "code",
   "execution_count": 12,
   "id": "42792b1c",
   "metadata": {
    "ExecuteTime": {
     "end_time": "2023-03-06T08:46:51.303568Z",
     "start_time": "2023-03-06T08:46:51.071074Z"
    }
   },
   "outputs": [
    {
     "data": {
      "image/png": "[encoded data removed]",
      "text/plain": [
       "<Figure size 432x288 with 1 Axes>"
      ]
     },
     "metadata": {
      "needs_background": "light"
     },
     "output_type": "display_data"
    }
   ],
   "source": [
    "word_count = df_lim.text.str.split().apply(len)\n",
    "sns.histplot(word_count)\n",
    "plt.show()"
   ]
  },
  {
   "cell_type": "markdown",
   "id": "3a8ae0b3",
   "metadata": {},
   "source": [
    "> As expected (due to the platform's character limits), there is a hard limit to the length of the tweets."
   ]
  },
  {
   "cell_type": "markdown",
   "id": "870a0464",
   "metadata": {},
   "source": [
    "### 1b) Prepare Text\n",
    "\n",
    "NOTE: The options explored in this section **reduced** the **performance** of the methods explored later, so will be skipped.\n",
    "\n",
    "The text vectorizer we will use later includes some text cleaning features, including converting text to lowercase and removing stop words, so we don't need to worry about those here.\n",
    "\n",
    "Some option we could use are:\n",
    "- @mentions: removing @mentions entirely; reducing entire @mention to @; leaving as is (selected)\n",
    "- punctuation: removing ALL punctuations; leaving in hashtags, periods, commas; leaving as is (selected)\n",
    "- lemmatization: converting verbs and nouns; leaving as is (selected)\n",
    "\n",
    "Again, the less I cleaned the text, the better the model performed, so this section will be commented out."
   ]
  },
  {
   "cell_type": "code",
   "execution_count": 13,
   "id": "d9af456a",
   "metadata": {
    "ExecuteTime": {
     "end_time": "2023-03-06T08:46:51.318385Z",
     "start_time": "2023-03-06T08:46:51.306138Z"
    },
    "scrolled": false
   },
   "outputs": [
    {
     "data": {
      "text/plain": [
       "'\\ndf_cln = df_lim.text.copy()\\n\\nfor i in range(len(df_lim.text)):\\n    # remove @mentions\\n    df_cln.iloc[i] = re.sub(\"@\\\\S+\", \"@\", df_cln.iloc[i])\\n    # remove punctuation (Except #, @, and commas)\\n    df_cln.iloc[i] = re.sub(r\\'[^.,#@\\\\w\\\\s]\\', \\'\\', df_cln.iloc[i])\\n    # lemmatize words\\n    df_cln.iloc[i] = \\' \\'.join([WordNetLemmatizer().lemmatize(w) for w in nltk.word_tokenize(df_cln.iloc[i])])\\n'"
      ]
     },
     "execution_count": 13,
     "metadata": {},
     "output_type": "execute_result"
    }
   ],
   "source": [
    "'''\n",
    "df_cln = df_lim.text.copy()\n",
    "\n",
    "for i in range(len(df_lim.text)):\n",
    "    # remove @mentions\n",
    "    df_cln.iloc[i] = re.sub(\"@\\S+\", \"@\", df_cln.iloc[i])\n",
    "    # remove punctuation (Except #, @, and commas)\n",
    "    df_cln.iloc[i] = re.sub(r'[^.,#@\\w\\s]', '', df_cln.iloc[i])\n",
    "    # lemmatize words\n",
    "    df_cln.iloc[i] = ' '.join([WordNetLemmatizer().lemmatize(w) for w in nltk.word_tokenize(df_cln.iloc[i])])\n",
    "'''"
   ]
  },
  {
   "cell_type": "markdown",
   "id": "14b3ad99",
   "metadata": {},
   "source": [
    "### 1c) Train/Val/Test Split"
   ]
  },
  {
   "cell_type": "code",
   "execution_count": 14,
   "id": "02087c83",
   "metadata": {
    "ExecuteTime": {
     "end_time": "2023-03-06T08:46:51.349329Z",
     "start_time": "2023-03-06T08:46:51.320964Z"
    },
    "scrolled": true
   },
   "outputs": [],
   "source": [
    "# Split df into 6 for training, validation, and test for features and labels\n",
    "\n",
    "split_size = int(df.shape[0]*0.2)\n",
    "\n",
    "# split out test set, leave rest as \"non_test\"\n",
    "non_test, tst, ynon_test, ytst = train_test_split(df_lim.text, \n",
    "                                                  df_lim.airline_sentiment,\n",
    "                                                  test_size = split_size,\n",
    "                                                  random_state = 7,\n",
    "                                                  stratify=df_lim.airline_sentiment)\n",
    "\n",
    "# split tmp into training and validation sets\n",
    "trn, vld, ytrn, yvld = train_test_split(non_test,\n",
    "                                        ynon_test,\n",
    "                                        test_size = split_size,\n",
    "                                        random_state = 7,\n",
    "                                        stratify=ynon_test)"
   ]
  },
  {
   "cell_type": "markdown",
   "id": "962e24f4",
   "metadata": {},
   "source": [
    "# 2) Pipeline Setup\n",
    "## 2a) Vectorizing the Tweets\n",
    "### 2a.i) Tfid\n",
    "We will use [TFID](https://scikit-learn.org/stable/modules/generated/sklearn.feature_extraction.text.TfidfVectorizer.html). As we're looking at sentiment, it could be that [Word2Vec](https://en.wikipedia.org/wiki/Word2vec) is a more appropriate choice here, but as the focus of this course is on using unsupervised techniques, we will use Tfid for all models, and instead focus on evaluating grouping methods."
   ]
  },
  {
   "cell_type": "code",
   "execution_count": 15,
   "id": "4afd7d8b",
   "metadata": {
    "ExecuteTime": {
     "end_time": "2023-03-06T08:46:51.459262Z",
     "start_time": "2023-03-06T08:46:51.351446Z"
    },
    "scrolled": false
   },
   "outputs": [
    {
     "data": {
      "text/plain": [
       "<4488x259 sparse matrix of type '<class 'numpy.float64'>'\n",
       "\twith 49441 stored elements in Compressed Sparse Row format>"
      ]
     },
     "execution_count": 15,
     "metadata": {},
     "output_type": "execute_result"
    }
   ],
   "source": [
    "#TFID\n",
    "vec = TfidfVectorizer(min_df=0.01, max_df=0.6)\n",
    "tfid_mod = vec.fit_transform(trn)\n",
    "tfid_mod"
   ]
  },
  {
   "cell_type": "markdown",
   "id": "b9bbb1f0",
   "metadata": {},
   "source": [
    "## 2b) Grouping\n",
    "### 2b.i) NMF\n",
    "\n",
    "The first method we will look at is Non-Negative Matrix Factorization [NMF](https://scikit-learn.org/stable/modules/generated/sklearn.decomposition.NMF.html). This method decomposes the input into two matrices, *W* and *H*. This is the same method we looked at in Module 4 of this course."
   ]
  },
  {
   "cell_type": "code",
   "execution_count": 16,
   "id": "7ab03836",
   "metadata": {
    "ExecuteTime": {
     "end_time": "2023-03-06T08:46:51.553055Z",
     "start_time": "2023-03-06T08:46:51.461258Z"
    }
   },
   "outputs": [
    {
     "name": "stdout",
     "output_type": "stream",
     "text": [
      "H matrix of shape *features* x *tweets*: (3, 259)\n",
      "W matrix of shape *tweets* x *sentiment_labels*: (4488, 3)\n"
     ]
    },
    {
     "name": "stderr",
     "output_type": "stream",
     "text": [
      "C:\\Users\\jawor\\anaconda3\\lib\\site-packages\\sklearn\\decomposition\\_nmf.py:289: FutureWarning: The 'init' value, when 'init=None' and n_components is less than n_samples and n_features, will be changed from 'nndsvd' to 'nndsvda' in 1.1 (renaming of 0.26).\n",
      "  warnings.warn(\n"
     ]
    }
   ],
   "source": [
    "mod = NMF(n_components = 3, random_state = 7)\n",
    "W = mod.fit_transform(tfid_mod)\n",
    "\n",
    "print(f\"H matrix of shape *features* x *tweets*: {mod.components_.shape}\")\n",
    "print(f\"W matrix of shape *tweets* x *sentiment_labels*: {W.shape}\")"
   ]
  },
  {
   "cell_type": "code",
   "execution_count": 17,
   "id": "9e66ed29",
   "metadata": {
    "ExecuteTime": {
     "end_time": "2023-03-06T08:46:51.584018Z",
     "start_time": "2023-03-06T08:46:51.554952Z"
    },
    "scrolled": true
   },
   "outputs": [
    {
     "data": {
      "text/plain": [
       "0       0\n",
       "1       0\n",
       "2       1\n",
       "3       0\n",
       "4       0\n",
       "       ..\n",
       "4483    0\n",
       "4484    0\n",
       "4485    0\n",
       "4486    0\n",
       "4487    0\n",
       "Length: 4488, dtype: int64"
      ]
     },
     "execution_count": 17,
     "metadata": {},
     "output_type": "execute_result"
    }
   ],
   "source": [
    "# identify strongest label association for each tweet\n",
    "pd.DataFrame(W).idxmax(axis=1)"
   ]
  },
  {
   "cell_type": "markdown",
   "id": "ee60d05f",
   "metadata": {},
   "source": [
    "### 2b.ii) SVD & Kmeans\n",
    "\n",
    "The second methods we will look at is [Kmeans](). This is a method we looked at in Module 2, and consists of determining centroids - and assigning each datapoint to a cluster corresponding to the closest centroid.\n",
    "\n",
    "Kmeans suffers from high dimensionality. For that reason, dimension reduction should be performed first. In Module 1, we used PCA. The SKLearn [PCA class doesn't support sparse data](https://scikit-learn.org/stable/modules/generated/sklearn.decomposition.PCA.html), so we will use [TruncatedSVD](https://scikit-learn.org/stable/modules/generated/sklearn.decomposition.TruncatedSVD.html#sklearn.decomposition.TruncatedSVD). Singular Value Decompostion operates in a similar fashion to PCA."
   ]
  },
  {
   "cell_type": "code",
   "execution_count": 18,
   "id": "fc5e7390",
   "metadata": {
    "ExecuteTime": {
     "end_time": "2023-03-06T08:46:51.646212Z",
     "start_time": "2023-03-06T08:46:51.586466Z"
    }
   },
   "outputs": [
    {
     "data": {
      "text/plain": [
       "(4488, 30)"
      ]
     },
     "execution_count": 18,
     "metadata": {},
     "output_type": "execute_result"
    }
   ],
   "source": [
    "svd = TruncatedSVD(n_components=30, random_state=7)\n",
    "red = svd.fit_transform(tfid_mod)\n",
    "red.shape"
   ]
  },
  {
   "cell_type": "code",
   "execution_count": 19,
   "id": "614f19f9",
   "metadata": {
    "ExecuteTime": {
     "end_time": "2023-03-06T08:46:51.849537Z",
     "start_time": "2023-03-06T08:46:51.647208Z"
    }
   },
   "outputs": [
    {
     "data": {
      "text/plain": [
       "array([1, 1, 1, ..., 1, 1, 1])"
      ]
     },
     "execution_count": 19,
     "metadata": {},
     "output_type": "execute_result"
    }
   ],
   "source": [
    "km = KMeans(n_clusters=3)\n",
    "km.fit_predict(red)"
   ]
  },
  {
   "cell_type": "code",
   "execution_count": 20,
   "id": "66ca4cc3",
   "metadata": {
    "ExecuteTime": {
     "end_time": "2023-03-06T08:46:51.865036Z",
     "start_time": "2023-03-06T08:46:51.851532Z"
    },
    "scrolled": true
   },
   "outputs": [
    {
     "data": {
      "text/plain": [
       "1    3356\n",
       "2     805\n",
       "0     327\n",
       "dtype: int64"
      ]
     },
     "execution_count": 20,
     "metadata": {},
     "output_type": "execute_result"
    }
   ],
   "source": [
    "kmdf = pd.Series(km.labels_)\n",
    "kmdf.value_counts()"
   ]
  },
  {
   "cell_type": "code",
   "execution_count": 21,
   "id": "a8538b1c",
   "metadata": {
    "ExecuteTime": {
     "end_time": "2023-03-06T08:46:51.975079Z",
     "start_time": "2023-03-06T08:46:51.868550Z"
    }
   },
   "outputs": [
    {
     "data": {
      "text/plain": [
       "array([[0.62268157, 0.35812432, 0.44577647],\n",
       "       [0.73842473, 0.54040027, 0.61538489],\n",
       "       [0.41249861, 0.69923381, 0.76355524],\n",
       "       ...,\n",
       "       [0.63354401, 0.44058394, 0.47118812],\n",
       "       [0.74905166, 0.53842653, 0.64567484],\n",
       "       [0.6798575 , 0.45425604, 0.5559294 ]])"
      ]
     },
     "execution_count": 21,
     "metadata": {},
     "output_type": "execute_result"
    }
   ],
   "source": [
    "Xvld = vec.transform(vld)\n",
    "Xvld = svd.transform(Xvld)\n",
    "# establish distance to each cluster center\n",
    "pred = km.transform(Xvld)\n",
    "pred"
   ]
  },
  {
   "cell_type": "code",
   "execution_count": 22,
   "id": "23726e43",
   "metadata": {
    "ExecuteTime": {
     "end_time": "2023-03-06T08:46:51.990695Z",
     "start_time": "2023-03-06T08:46:51.977173Z"
    }
   },
   "outputs": [
    {
     "data": {
      "text/plain": [
       "0       0\n",
       "1       0\n",
       "2       2\n",
       "3       0\n",
       "4       0\n",
       "       ..\n",
       "2923    0\n",
       "2924    2\n",
       "2925    0\n",
       "2926    0\n",
       "2927    0\n",
       "Length: 2928, dtype: int64"
      ]
     },
     "execution_count": 22,
     "metadata": {},
     "output_type": "execute_result"
    }
   ],
   "source": [
    "# assign to cluster with strongest association\n",
    "pd.DataFrame(pred).idxmax(axis=1)"
   ]
  },
  {
   "cell_type": "markdown",
   "id": "3d9c15bf",
   "metadata": {},
   "source": [
    "### 2b.iii) SVD & GaussianMixture\n",
    "In another course (DTSA5505: Data Mining Methods) we looked at another method similar to KMeans: [Expectation-Maximization](https://en.wikipedia.org/wiki/Expectation%E2%80%93maximization_algorithm). The SKLearn class [GaussianMixture](https://scikit-learn.org/stable/modules/generated/sklearn.mixture.GaussianMixture.html#sklearn.mixture.GaussianMixture) provides this functionality.\n",
    "\n",
    "An advantage over Kmeans is that GaussianMixture accommodates clusters of the different sizes. However, it does assume a normal distribution for each feature, which may not be the case here."
   ]
  },
  {
   "cell_type": "code",
   "execution_count": 23,
   "id": "6fa8dfe5",
   "metadata": {
    "ExecuteTime": {
     "end_time": "2023-03-06T08:46:52.411966Z",
     "start_time": "2023-03-06T08:46:51.992688Z"
    }
   },
   "outputs": [
    {
     "data": {
      "text/plain": [
       "array([0, 0, 1, ..., 2, 0, 1], dtype=int64)"
      ]
     },
     "execution_count": 23,
     "metadata": {},
     "output_type": "execute_result"
    }
   ],
   "source": [
    "gm = GaussianMixture(n_components=3)\n",
    "gm.fit_predict(red)"
   ]
  },
  {
   "cell_type": "code",
   "execution_count": 24,
   "id": "0932fe68",
   "metadata": {
    "ExecuteTime": {
     "end_time": "2023-03-06T08:46:52.427661Z",
     "start_time": "2023-03-06T08:46:52.413281Z"
    },
    "scrolled": true
   },
   "outputs": [
    {
     "data": {
      "text/plain": [
       "0       0\n",
       "1       0\n",
       "2       2\n",
       "3       0\n",
       "4       1\n",
       "       ..\n",
       "2923    0\n",
       "2924    2\n",
       "2925    1\n",
       "2926    1\n",
       "2927    0\n",
       "Length: 2928, dtype: int64"
      ]
     },
     "execution_count": 24,
     "metadata": {},
     "output_type": "execute_result"
    }
   ],
   "source": [
    "pd.Series(gm.predict(Xvld))"
   ]
  },
  {
   "cell_type": "markdown",
   "id": "32f840f4",
   "metadata": {},
   "source": [
    "> We can see already that we're getting a slightly different "
   ]
  },
  {
   "cell_type": "markdown",
   "id": "e32aeee3",
   "metadata": {},
   "source": [
    "## 2c) Pipeline Finalization\n",
    "### Helper Functions"
   ]
  },
  {
   "cell_type": "code",
   "execution_count": 25,
   "id": "94125e47",
   "metadata": {
    "ExecuteTime": {
     "end_time": "2023-03-06T08:46:52.459038Z",
     "start_time": "2023-03-06T08:46:52.430943Z"
    }
   },
   "outputs": [],
   "source": [
    "labels = list(ytrn.unique())\n",
    "label_count = len(labels)\n",
    "\n",
    "def set_label_order(grouped, labelled):\n",
    "    # designates label order based on clustered predictions and true labels\n",
    "    best_score = 0\n",
    "    best_label_order = []\n",
    "    perms = list(permutations(labels))\n",
    "\n",
    "    for p in perms:\n",
    "        score = 0\n",
    "        for i in range(label_count):\n",
    "            score += (labelled[grouped==i]==p[i]).sum()\n",
    "            if score > best_score:\n",
    "                best_score = score\n",
    "                best_label_order = p\n",
    "\n",
    "    return best_label_order\n",
    "\n",
    "def get_labels(y_grouped, label_order):\n",
    "    # assign labels to clusted predictions based on label_order\n",
    "    labelled_pred = y_grouped.copy()\n",
    "    for i in range(label_count):\n",
    "        labelled_pred[labelled_pred==i]=label_order[i]\n",
    "    return labelled_pred\n",
    "\n",
    "def diagnostic(pred, truth, f1_average=\"weighted\", cm_plot=False):\n",
    "    # score model and \n",
    "    if cm_plot == True:\n",
    "        cm = confusion_matrix(list(truth), list(pred))\n",
    "        fig, ax = plt.subplots(figsize=(6, 5))\n",
    "        sns.heatmap(cm, annot=True, fmt='g',ax=ax).set(\n",
    "        ylabel='True', xlabel='Predicted')\n",
    "        ax.xaxis.set_ticklabels(labels)\n",
    "        ax.yaxis.set_ticklabels(labels)\n",
    "        plt.plot()\n",
    "\n",
    "    return f1_score(truth, pred, average=f1_average) "
   ]
  },
  {
   "cell_type": "markdown",
   "id": "6175fdfe",
   "metadata": {},
   "source": [
    "### 2c.i) TFID-NMF Model"
   ]
  },
  {
   "cell_type": "code",
   "execution_count": 26,
   "id": "45a7f1d8",
   "metadata": {
    "ExecuteTime": {
     "end_time": "2023-03-06T08:46:52.475115Z",
     "start_time": "2023-03-06T08:46:52.461623Z"
    }
   },
   "outputs": [],
   "source": [
    "class TfidNMF:\n",
    "    def __init__(self):\n",
    "        #self.labels = list(ytrn.unique())\n",
    "        #self.n = len(self.labels) #number of categories/labels\n",
    "        self.vec = None # Tfid Model\n",
    "        self.nmf = None # NMF model\n",
    "        self.label_order = None\n",
    "    \n",
    "    def fit(self, train, ytrain, tfid_args, nmf_args, random_state=7):\n",
    "        self.vec = TfidfVectorizer(**tfid_args)\n",
    "        if \"n_components\" not in nmf_args:\n",
    "            nmf_args[\"n_components\"] = label_count\n",
    "        if \"random_state\" not in nmf_args:\n",
    "            nmf_args[\"random_state\"]=random_state\n",
    "        self.nmf = NMF(**nmf_args)\n",
    "        \n",
    "        Xtrain = self.vec.fit_transform(train)\n",
    "        self.nmf.fit(Xtrain)\n",
    "        self.label_order = set_label_order(self.transform(train), ytrain)\n",
    "    \n",
    "    def transform(self, input):\n",
    "        Xinput = self.vec.transform(input)\n",
    "        W = self.nmf.transform(Xinput)\n",
    "        grouped = pd.DataFrame(W).idxmax(axis=1)\n",
    "        grouped.index=input.index\n",
    "        return grouped\n",
    "\n",
    "    def evaluate(self, train, ytrain, test, ytest, tfid_args, nmf_args, \n",
    "                 f1_average=\"weighted\", cm_plot=False, random_state=7):\n",
    "        t0 = time.time()\n",
    "        self.fit(train, ytrain, tfid_args, nmf_args)\n",
    "        pred_test = get_labels(self.transform(test), self.label_order)\n",
    "        runtime = time.time()-t0\n",
    "\n",
    "        score = diagnostic(pred_test, ytest, f1_average, cm_plot)\n",
    "        return score, runtime, self"
   ]
  },
  {
   "cell_type": "code",
   "execution_count": 27,
   "id": "de3385e6",
   "metadata": {
    "ExecuteTime": {
     "end_time": "2023-03-06T08:46:53.014892Z",
     "start_time": "2023-03-06T08:46:52.478626Z"
    },
    "scrolled": false
   },
   "outputs": [
    {
     "name": "stderr",
     "output_type": "stream",
     "text": [
      "C:\\Users\\jawor\\anaconda3\\lib\\site-packages\\sklearn\\decomposition\\_nmf.py:289: FutureWarning: The 'init' value, when 'init=None' and n_components is less than n_samples and n_features, will be changed from 'nndsvd' to 'nndsvda' in 1.1 (renaming of 0.26).\n",
      "  warnings.warn(\n"
     ]
    },
    {
     "data": {
      "text/plain": [
       "(0.6343095033004887, 0.3258538246154785, <__main__.TfidNMF at 0x1dd71a49d00>)"
      ]
     },
     "execution_count": 27,
     "metadata": {},
     "output_type": "execute_result"
    },
    {
     "data": {
      "image/png": "[encoded data removed]",
      "text/plain": [
       "<Figure size 432x360 with 2 Axes>"
      ]
     },
     "metadata": {
      "needs_background": "light"
     },
     "output_type": "display_data"
    }
   ],
   "source": [
    "# Test TfidNMF\n",
    "t_args = {\"min_df\":0.01,\n",
    "          \"stop_words\":'english'}\n",
    "n_args = {}\n",
    "\n",
    "TfidNMF().evaluate(trn, ytrn, vld, yvld, t_args, n_args, cm_plot=True)"
   ]
  },
  {
   "cell_type": "markdown",
   "id": "f1f1cfdc",
   "metadata": {},
   "source": [
    "### 2c.ii) TFID-SVD-Kmeans Model"
   ]
  },
  {
   "cell_type": "code",
   "execution_count": 28,
   "id": "6cb6c63c",
   "metadata": {
    "ExecuteTime": {
     "end_time": "2023-03-06T08:46:53.046095Z",
     "start_time": "2023-03-06T08:46:53.021769Z"
    }
   },
   "outputs": [],
   "source": [
    "class TfidKmeans:\n",
    "    def __init__(self):\n",
    "        self.vec = None # Tfid model\n",
    "        self.svd = None # NMF model\n",
    "        self.kmn = None # Kmeans model\n",
    "        self.label_order = None\n",
    "    \n",
    "    def fit(self, train, ytrain, tfid_args, svd_args, kmn_args, random_state=7):\n",
    "        self.vec = TfidfVectorizer(**tfid_args)\n",
    "        \n",
    "        if \"random_state\" not in svd_args:\n",
    "            svd_args[\"random_state\"]=random_state\n",
    "        self.svd = TruncatedSVD(**svd_args)\n",
    "        \n",
    "        if \"n_clusters\" not in kmn_args:\n",
    "            kmn_args[\"n_clusters\"] = label_count\n",
    "        if \"random_state\" not in kmn_args:\n",
    "            kmn_args[\"random_state\"]=random_state        \n",
    "        self.kmn = KMeans(**kmn_args)\n",
    "        \n",
    "        Xtrain = self.vec.fit_transform(train)\n",
    "        reduced = self.svd.fit_transform(Xtrain)\n",
    "        self.kmn.fit(reduced)\n",
    "        self.label_order = set_label_order(self.transform(train), ytrain)\n",
    "    \n",
    "    def transform(self, input):\n",
    "        Xinput = self.vec.transform(input)\n",
    "        Xred = self.svd.transform(Xinput)\n",
    "        grouped = pd.DataFrame(self.kmn.transform(Xred)).idxmax(axis=1)\n",
    "        grouped.index=input.index\n",
    "        return grouped\n",
    "    \n",
    "    def evaluate(self, train, ytrain, test, ytest, tfid_args, svd_args, kmn_args, \n",
    "                 f1_average=\"weighted\", cm_plot=False, random_state=7):\n",
    "        t0 = time.time()\n",
    "        self.fit(train, ytrain, tfid_args, svd_args, kmn_args)\n",
    "        pred_test = get_labels(self.transform(test), self.label_order)\n",
    "        runtime = time.time()-t0\n",
    "\n",
    "        score = diagnostic(pred_test, ytest, f1_average, cm_plot)\n",
    "        return score, runtime, self       "
   ]
  },
  {
   "cell_type": "code",
   "execution_count": 29,
   "id": "1586f4f4",
   "metadata": {
    "ExecuteTime": {
     "end_time": "2023-03-06T08:46:53.777938Z",
     "start_time": "2023-03-06T08:46:53.048230Z"
    },
    "scrolled": false
   },
   "outputs": [
    {
     "data": {
      "text/plain": [
       "(0.615215353124164, 0.4608726501464844, <__main__.TfidKmeans at 0x1dd70e8a640>)"
      ]
     },
     "execution_count": 29,
     "metadata": {},
     "output_type": "execute_result"
    },
    {
     "data": {
      "image/png": "[encoded data removed]",
      "text/plain": [
       "<Figure size 432x360 with 2 Axes>"
      ]
     },
     "metadata": {
      "needs_background": "light"
     },
     "output_type": "display_data"
    }
   ],
   "source": [
    "# Test TfidKMeans\n",
    "t_args = {\"min_df\":0.01,\n",
    "          \"stop_words\":'english'}\n",
    "s_args = {\"n_components\":30}\n",
    "k_args = {}\n",
    "\n",
    "TfidKmeans().evaluate(trn, ytrn, vld, yvld, t_args, s_args, k_args, cm_plot=True)"
   ]
  },
  {
   "cell_type": "markdown",
   "id": "2e3d4fcf",
   "metadata": {},
   "source": [
    "### 2c.iii) TFID-SVD-GaussianMixture Model"
   ]
  },
  {
   "cell_type": "code",
   "execution_count": 30,
   "id": "4ca3e290",
   "metadata": {
    "ExecuteTime": {
     "end_time": "2023-03-06T08:46:53.793351Z",
     "start_time": "2023-03-06T08:46:53.780462Z"
    }
   },
   "outputs": [],
   "source": [
    "class TfidGauss:\n",
    "    def __init__(self):\n",
    "        self.vec = None # Tfid model\n",
    "        self.svd = None # NMF model\n",
    "        self.gmx = None # GaussiasMixture model\n",
    "        self.label_order = None\n",
    "    \n",
    "    def fit(self, train, ytrain, tfid_args, svd_args, gmx_args, random_state=7):\n",
    "        self.vec = TfidfVectorizer(**tfid_args)\n",
    "        \n",
    "        if \"random_state\" not in svd_args:\n",
    "            svd_args[\"random_state\"]=random_state\n",
    "        self.svd = TruncatedSVD(**svd_args)\n",
    "        \n",
    "        if \"n_components\" not in gmx_args:\n",
    "            gmx_args[\"n_components\"] = label_count\n",
    "        if \"random_state\" not in gmx_args:\n",
    "            gmx_args[\"random_state\"]=random_state        \n",
    "        self.gmx = GaussianMixture(**gmx_args)\n",
    "        \n",
    "        Xtrain = self.vec.fit_transform(train)\n",
    "        reduced = self.svd.fit_transform(Xtrain)\n",
    "        self.gmx.fit(reduced)\n",
    "        self.label_order = set_label_order(self.transform(train), ytrain)\n",
    "    \n",
    "    def transform(self, input):\n",
    "        Xinput = self.vec.transform(input)\n",
    "        Xred = self.svd.transform(Xinput)\n",
    "        grouped = pd.Series(self.gmx.predict(Xred))\n",
    "        grouped.index=input.index\n",
    "        return grouped\n",
    "    \n",
    "    def evaluate(self, train, ytrain, test, ytest, tfid_args, svd_args, gmx_args, \n",
    "                 f1_average=\"weighted\", cm_plot=False, random_state=7):\n",
    "        t0 = time.time()\n",
    "        self.fit(train, ytrain, tfid_args, svd_args, gmx_args)\n",
    "        pred_test = get_labels(self.transform(test), self.label_order)\n",
    "        runtime = time.time()-t0\n",
    "\n",
    "        score = diagnostic(pred_test, ytest, f1_average, cm_plot)\n",
    "        return score, runtime, self       "
   ]
  },
  {
   "cell_type": "code",
   "execution_count": 31,
   "id": "d6ecdfff",
   "metadata": {
    "ExecuteTime": {
     "end_time": "2023-03-06T08:46:54.968026Z",
     "start_time": "2023-03-06T08:46:53.796068Z"
    },
    "scrolled": false
   },
   "outputs": [
    {
     "data": {
      "text/plain": [
       "(0.4897575152424722, 0.8264875411987305, <__main__.TfidGauss at 0x1dd7255b9a0>)"
      ]
     },
     "execution_count": 31,
     "metadata": {},
     "output_type": "execute_result"
    },
    {
     "data": {
      "image/png": "[encoded data removed]",
      "text/plain": [
       "<Figure size 432x360 with 2 Axes>"
      ]
     },
     "metadata": {
      "needs_background": "light"
     },
     "output_type": "display_data"
    }
   ],
   "source": [
    "# Test TfidGauss\n",
    "t_args = {\"min_df\":0.01,\n",
    "          \"stop_words\":'english'}\n",
    "s_args = {\"n_components\":30}\n",
    "g_args = {}\n",
    "\n",
    "TfidGauss().evaluate(trn, ytrn, vld, yvld, t_args, s_args, g_args, cm_plot=True)"
   ]
  },
  {
   "cell_type": "markdown",
   "id": "0ce6c3be",
   "metadata": {},
   "source": [
    "# 3) Hyperparameter Tuning\n",
    "\n",
    "This tuning will be non-exhaustive\n",
    "\n",
    "### Tuning Tfid\n",
    "Of the parameters we can control in out Tfid model, we will look at stop words, removing terms that are too common, length of n-grams included, and output normalization.\n",
    "\n",
    "### 3a) Tuning NMF-based model\n",
    "After establishing ballpark parameter values for the Tfid, we will primarily control the solver and loss function of the NMF model."
   ]
  },
  {
   "cell_type": "code",
   "execution_count": 32,
   "id": "99487cef",
   "metadata": {
    "ExecuteTime": {
     "end_time": "2023-03-06T08:46:54.983926Z",
     "start_time": "2023-03-06T08:46:54.971340Z"
    }
   },
   "outputs": [],
   "source": [
    "def tNMFgrid(arg_dic1, param1, range1, arg_dic2, param2, range2, \n",
    "               train=trn, ytrain=ytrn, validation=vld, yvalidation=yvld):\n",
    "    best_score = 0\n",
    "    best_pair = None\n",
    "\n",
    "    for i in range1:\n",
    "        arg_dic1[param1] = i\n",
    "        for j in range2:\n",
    "            arg_dic2[param2] = j\n",
    "            result = TfidNMF().evaluate(trn, ytrn, vld, yvld, t_args, n_args)\n",
    "            if result[0] > best_score:\n",
    "                best_score = result[0]\n",
    "                best_pair = (i,j)\n",
    "    print(f\"best score: {best_score} with {param1}:{best_pair[0]} and {param2}:{best_pair[1]}\")"
   ]
  },
  {
   "cell_type": "code",
   "execution_count": 33,
   "id": "eb52422d",
   "metadata": {
    "ExecuteTime": {
     "end_time": "2023-03-06T08:47:01.273847Z",
     "start_time": "2023-03-06T08:46:54.988226Z"
    }
   },
   "outputs": [
    {
     "name": "stdout",
     "output_type": "stream",
     "text": [
      "best score: 0.6690539533534449 with min_df:0.001 and max_df:1.0\n"
     ]
    }
   ],
   "source": [
    "t_args = {'ngram_range':(1,1)}\n",
    "n_args = {'init':'nndsvd'}\n",
    "\n",
    "tNMFgrid(t_args, 'min_df', [1, 0.001, 0.003, 0.03], \n",
    "         t_args, 'max_df', [1.0, 0.95, 0.85])"
   ]
  },
  {
   "cell_type": "markdown",
   "id": "d24d6d01",
   "metadata": {},
   "source": [
    "> With only unigrams, we're seeing the best performance with the inclusion of all ngrams. The F1 score here is an improvement over the English stopwords settings (~0.63)."
   ]
  },
  {
   "cell_type": "code",
   "execution_count": 34,
   "id": "50445a98",
   "metadata": {
    "ExecuteTime": {
     "end_time": "2023-03-06T08:47:11.409139Z",
     "start_time": "2023-03-06T08:47:01.276187Z"
    }
   },
   "outputs": [
    {
     "name": "stdout",
     "output_type": "stream",
     "text": [
      "best score: 0.6856130014759958 with min_df:0.001 and max_df:1.0\n"
     ]
    }
   ],
   "source": [
    "t_args = {'ngram_range':(1,2)}\n",
    "n_args = {'init':'nndsvd'}\n",
    "\n",
    "tNMFgrid(t_args, 'min_df', [1, 0.001, 0.003, 0.03], \n",
    "         t_args, 'max_df', [1.0, 0.95, 0.85])"
   ]
  },
  {
   "cell_type": "markdown",
   "id": "28f43cf9",
   "metadata": {},
   "source": [
    "> Improvement with the addition of bigrams. Note that it hasn't affected the \"best\" Tfid parameters"
   ]
  },
  {
   "cell_type": "code",
   "execution_count": 35,
   "id": "81196cdc",
   "metadata": {
    "ExecuteTime": {
     "end_time": "2023-03-06T08:47:23.636332Z",
     "start_time": "2023-03-06T08:47:11.411145Z"
    }
   },
   "outputs": [
    {
     "name": "stdout",
     "output_type": "stream",
     "text": [
      "best score: 0.6908835991718708 with min_df:1 and max_df:1.0\n"
     ]
    }
   ],
   "source": [
    "t_args = {'ngram_range':(1,3)}\n",
    "n_args = {'init':'nndsvd'}\n",
    "\n",
    "tNMFgrid(t_args, 'min_df', [1, 0.001, 0.003], \n",
    "         t_args, 'max_df', [1.0, 0.95, 0.85])"
   ]
  },
  {
   "cell_type": "markdown",
   "id": "60a79713",
   "metadata": {},
   "source": [
    "> Further improvement with tri-grams. The best *min_df* was at 1 (int) rather than 0.001 of the dataset, but these aren't too far apart."
   ]
  },
  {
   "cell_type": "code",
   "execution_count": 36,
   "id": "b96ccbcd",
   "metadata": {
    "ExecuteTime": {
     "end_time": "2023-03-06T08:47:39.426874Z",
     "start_time": "2023-03-06T08:47:23.639329Z"
    }
   },
   "outputs": [
    {
     "name": "stdout",
     "output_type": "stream",
     "text": [
      "best score: 0.6886327734331568 with min_df:1 and max_df:1.0\n"
     ]
    }
   ],
   "source": [
    "t_args = {'ngram_range':(1,4)}\n",
    "n_args = {'init':'nndsvd'}\n",
    "\n",
    "tNMFgrid(t_args, 'min_df', [1, 0.001, 0.003], \n",
    "         t_args, 'max_df', [1.0, 0.95, 0.85])"
   ]
  },
  {
   "cell_type": "markdown",
   "id": "ba243c80",
   "metadata": {},
   "source": [
    "> We likely peaked at (1,3) for the *ngram_range*\n",
    "\n",
    "We'll close in to see if we can get more precise values for the parameters."
   ]
  },
  {
   "cell_type": "code",
   "execution_count": 37,
   "id": "e0ae3153",
   "metadata": {
    "ExecuteTime": {
     "end_time": "2023-03-06T08:47:51.658912Z",
     "start_time": "2023-03-06T08:47:39.429869Z"
    },
    "scrolled": true
   },
   "outputs": [
    {
     "name": "stdout",
     "output_type": "stream",
     "text": [
      "best score: 0.6908835991718708 with min_df:1 and max_df:1.0\n"
     ]
    }
   ],
   "source": [
    "t_args = {'ngram_range':(1,3)}\n",
    "n_args = {'init':'nndsvd'}\n",
    "\n",
    "tNMFgrid(t_args, 'min_df', [1, 0.001, 0.003], \n",
    "         t_args, 'max_df', [1.0, 0.99, 0.98])"
   ]
  },
  {
   "cell_type": "code",
   "execution_count": 38,
   "id": "d177e275",
   "metadata": {
    "ExecuteTime": {
     "end_time": "2023-03-06T08:48:04.497473Z",
     "start_time": "2023-03-06T08:47:51.662305Z"
    }
   },
   "outputs": [
    {
     "name": "stdout",
     "output_type": "stream",
     "text": [
      "best score: 0.6499359991976141 with min_df:0.003 and max_df:1.0\n"
     ]
    }
   ],
   "source": [
    "t_args = {'ngram_range':(1,3), \n",
    "          'norm':'l1'} # default is 'l2' \n",
    "n_args = {'init':'nndsvd'}\n",
    "\n",
    "tNMFgrid(t_args, 'min_df', [1, 0.001, 0.003], \n",
    "         t_args, 'max_df', [1.0, 0.98, 0.95])"
   ]
  },
  {
   "cell_type": "markdown",
   "id": "11e64633",
   "metadata": {},
   "source": [
    "> The non-default normalization wasn't an improvement.\n",
    "\n",
    "We'll move on now to modifying the **NMF parameters**."
   ]
  },
  {
   "cell_type": "code",
   "execution_count": 39,
   "id": "cf923ff1",
   "metadata": {
    "ExecuteTime": {
     "end_time": "2023-03-06T08:48:52.517532Z",
     "start_time": "2023-03-06T08:48:04.500466Z"
    }
   },
   "outputs": [
    {
     "name": "stdout",
     "output_type": "stream",
     "text": [
      "best score: 0.6913326550252961 with min_df:1 and max_df:1.0\n"
     ]
    }
   ],
   "source": [
    "t_args = {'ngram_range':(1,3)}\n",
    "n_args = {'init':'nndsvda', # changed to work with 'mu' solver\n",
    "          'solver':'mu', # changed to work with k-l loss\n",
    "          'beta_loss': 'kullback-leibler',}\n",
    "\n",
    "tNMFgrid(t_args, 'min_df', [1, 0.001, 0.003], \n",
    "         t_args, 'max_df', [1.0, 0.99, 0.98])"
   ]
  },
  {
   "cell_type": "markdown",
   "id": "bda8db35",
   "metadata": {},
   "source": [
    "> We see an incremental improvement over our previous best!"
   ]
  },
  {
   "cell_type": "code",
   "execution_count": 40,
   "id": "68b70e92",
   "metadata": {
    "ExecuteTime": {
     "end_time": "2023-03-06T08:49:28.166792Z",
     "start_time": "2023-03-06T08:48:52.520805Z"
    }
   },
   "outputs": [
    {
     "name": "stdout",
     "output_type": "stream",
     "text": [
      "best score: 0.7051621847005198 with ngram_range:(1, 4) and min_df:1\n"
     ]
    }
   ],
   "source": [
    "t_args = {'max_df':1.0}\n",
    "n_args = {'init':'nndsvda', # changed to work with 'mu' solver\n",
    "          'solver':'mu', # changed to work with k-l loss\n",
    "          'beta_loss': 'kullback-leibler',}\n",
    "\n",
    "tNMFgrid(t_args, 'ngram_range', [(1,2), (1,3), (1,4)], \n",
    "         t_args, 'min_df', [1, 0.001])"
   ]
  },
  {
   "cell_type": "code",
   "execution_count": 41,
   "id": "cee001ee",
   "metadata": {
    "ExecuteTime": {
     "end_time": "2023-03-06T08:49:59.978824Z",
     "start_time": "2023-03-06T08:49:28.170601Z"
    }
   },
   "outputs": [
    {
     "name": "stdout",
     "output_type": "stream",
     "text": [
      "best score: 0.7173180198306851 with ngram_range:(1, 5) and min_df:1\n"
     ]
    }
   ],
   "source": [
    "t_args = {'max_df':1.0}\n",
    "n_args = {'init':'nndsvda', # changed to work with 'mu' solver\n",
    "          'solver':'mu', # changed to work with k-l loss\n",
    "          'beta_loss': 'kullback-leibler',}\n",
    "\n",
    "tNMFgrid(t_args, 'ngram_range', [(1,5), (1,6)], \n",
    "         t_args, 'min_df', [1, 0.001])"
   ]
  },
  {
   "cell_type": "code",
   "execution_count": 42,
   "id": "91d8ae58",
   "metadata": {
    "ExecuteTime": {
     "end_time": "2023-03-06T08:50:32.402279Z",
     "start_time": "2023-03-06T08:49:59.982968Z"
    }
   },
   "outputs": [
    {
     "name": "stdout",
     "output_type": "stream",
     "text": [
      "best score: 0.7173180198306851 with min_df:1 and max_df:1.0\n"
     ]
    }
   ],
   "source": [
    "t_args = {'ngram_range':(1,5)}\n",
    "n_args = {'init':'nndsvda', # changed to work with 'mu' solver\n",
    "          'solver':'mu', # changed to work with k-l loss\n",
    "          'beta_loss': 'kullback-leibler',}\n",
    "\n",
    "tNMFgrid(t_args, 'min_df', [1, 0.001], \n",
    "         t_args, 'max_df', [1.0, 0.99])"
   ]
  },
  {
   "cell_type": "code",
   "execution_count": 43,
   "id": "51958f4f",
   "metadata": {
    "ExecuteTime": {
     "end_time": "2023-03-06T08:50:42.847832Z",
     "start_time": "2023-03-06T08:50:32.405198Z"
    }
   },
   "outputs": [
    {
     "data": {
      "text/plain": [
       "(0.7173180198306851, 10.151506185531616, <__main__.TfidNMF at 0x1dd72c1ca30>)"
      ]
     },
     "execution_count": 43,
     "metadata": {},
     "output_type": "execute_result"
    },
    {
     "data": {
      "image/png": "[encoded data removed]",
      "text/plain": [
       "<Figure size 432x360 with 2 Axes>"
      ]
     },
     "metadata": {
      "needs_background": "light"
     },
     "output_type": "display_data"
    }
   ],
   "source": [
    "### BEST NMF:\n",
    "t_args = {'min_df':1,\n",
    "          'max_df':1.0,\n",
    "          'ngram_range':(1,5)}\n",
    "n_args = {'init':'nndsvda', # changed to work with 'mu' solver\n",
    "          'solver':'mu', # changed to work with k-l loss\n",
    "          'beta_loss': 'kullback-leibler',}\n",
    "TfidNMF().evaluate(trn, ytrn, vld, yvld, t_args, n_args, cm_plot=True)"
   ]
  },
  {
   "cell_type": "markdown",
   "id": "aa5abd94",
   "metadata": {},
   "source": [
    "> The model seems to be doing a decent job of correctly identifying negative tweets, but misidentifying neutral (as True). Positive tweets are more often labeled correctly, but many were mislabeled."
   ]
  },
  {
   "cell_type": "markdown",
   "id": "fe2fd634",
   "metadata": {},
   "source": [
    "### 3b) Tuning Kmeans-based model\n",
    "We can again tune the Tfid parameters. As for SVC, we can control how many components our vectorized texts are reduced to, and the algorithm used to solve. For Kmeans, we will try modifying the initialization. "
   ]
  },
  {
   "cell_type": "code",
   "execution_count": 44,
   "id": "da3deeda",
   "metadata": {
    "ExecuteTime": {
     "end_time": "2023-03-06T08:50:42.863143Z",
     "start_time": "2023-03-06T08:50:42.849847Z"
    }
   },
   "outputs": [],
   "source": [
    "def tKMgrid(arg_dic1, param1, range1, arg_dic2, param2, range2, \n",
    "               train=trn, ytrain=ytrn, validation=vld, yvalidation=yvld):\n",
    "    best_score = 0\n",
    "    best_pair = None\n",
    "\n",
    "    for i in range1:\n",
    "        arg_dic1[param1] = i\n",
    "        for j in range2:\n",
    "            arg_dic2[param2] = j\n",
    "            result = TfidKmeans().evaluate(trn, ytrn, vld, yvld, t_args, s_args, k_args)\n",
    "            if result[0] > best_score:\n",
    "                best_score = result[0]\n",
    "                best_pair = (i,j)\n",
    "    print(f\"best score: {best_score} with {param1}:{best_pair[0]} and {param2}:{best_pair[1]}\")"
   ]
  },
  {
   "cell_type": "code",
   "execution_count": 45,
   "id": "49f20c16",
   "metadata": {
    "ExecuteTime": {
     "end_time": "2023-03-06T08:50:51.008151Z",
     "start_time": "2023-03-06T08:50:42.865239Z"
    }
   },
   "outputs": [
    {
     "name": "stdout",
     "output_type": "stream",
     "text": [
      "best score: 0.6276195866463106 with min_df:1 and max_df:1.0\n"
     ]
    }
   ],
   "source": [
    "t_args = {'ngram_range':(1,1)}\n",
    "s_args = {'n_components':30}\n",
    "k_args = {}\n",
    "\n",
    "tKMgrid(t_args, 'min_df', [1, 0.001, 0.003], \n",
    "        t_args, 'max_df', [1.0, 0.95, 0.85])"
   ]
  },
  {
   "cell_type": "code",
   "execution_count": 46,
   "id": "12073ed2",
   "metadata": {
    "ExecuteTime": {
     "end_time": "2023-03-06T08:51:03.053681Z",
     "start_time": "2023-03-06T08:50:51.011606Z"
    }
   },
   "outputs": [
    {
     "name": "stdout",
     "output_type": "stream",
     "text": [
      "best score: 0.6399838446788629 with min_df:0.001 and max_df:1.0\n"
     ]
    }
   ],
   "source": [
    "t_args = {'ngram_range':(1,2)}\n",
    "s_args = {'n_components':30}\n",
    "k_args = {}\n",
    "\n",
    "tKMgrid(t_args, 'min_df', [1, 0.001, 0.003], \n",
    "        t_args, 'max_df', [1.0, 0.99, 0.98])"
   ]
  },
  {
   "cell_type": "code",
   "execution_count": 47,
   "id": "1a16f1bf",
   "metadata": {
    "ExecuteTime": {
     "end_time": "2023-03-06T08:51:20.742871Z",
     "start_time": "2023-03-06T08:51:03.056212Z"
    }
   },
   "outputs": [
    {
     "name": "stdout",
     "output_type": "stream",
     "text": [
      "best score: 0.6395342671593861 with min_df:0.001 and max_df:1.0\n"
     ]
    }
   ],
   "source": [
    "t_args = {'ngram_range':(1,3)}\n",
    "s_args = {'n_components':30}\n",
    "k_args = {}\n",
    "\n",
    "tKMgrid(t_args, 'min_df', [1, 0.001, 0.003], \n",
    "        t_args, 'max_df', [1.0, 0.99, 0.98])"
   ]
  },
  {
   "cell_type": "code",
   "execution_count": 48,
   "id": "8e51c85c",
   "metadata": {
    "ExecuteTime": {
     "end_time": "2023-03-06T08:51:42.678025Z",
     "start_time": "2023-03-06T08:51:20.746402Z"
    }
   },
   "outputs": [
    {
     "name": "stdout",
     "output_type": "stream",
     "text": [
      "best score: 0.6361103905375564 with min_df:0.001 and max_df:1.0\n"
     ]
    }
   ],
   "source": [
    "t_args = {'ngram_range':(1,4)}\n",
    "s_args = {'n_components':30}\n",
    "k_args = {}\n",
    "\n",
    "tKMgrid(t_args, 'min_df', [1, 0.001, 0.003], \n",
    "        t_args, 'max_df', [1.0, 0.99, 0.98])"
   ]
  },
  {
   "cell_type": "markdown",
   "id": "f2f2f434",
   "metadata": {},
   "source": [
    "Try other SVD **n_components** values for ngram_range (1,2):"
   ]
  },
  {
   "cell_type": "code",
   "execution_count": 49,
   "id": "03d63603",
   "metadata": {
    "ExecuteTime": {
     "end_time": "2023-03-06T08:52:24.805598Z",
     "start_time": "2023-03-06T08:52:10.947481Z"
    }
   },
   "outputs": [
    {
     "name": "stdout",
     "output_type": "stream",
     "text": [
      "best score: 0.6413536816122024 with min_df:0.001 and n_components:60\n"
     ]
    }
   ],
   "source": [
    "t_args = {'ngram_range':(1,2),\n",
    "          'max_df':1.0}\n",
    "s_args = {'n_components':30}\n",
    "k_args = {}\n",
    "\n",
    "tKMgrid(t_args, 'min_df', [1, 0.001, 0.003], \n",
    "        s_args, 'n_components', [20, 60,100])"
   ]
  },
  {
   "cell_type": "markdown",
   "id": "c9a17b75",
   "metadata": {},
   "source": [
    "> Interestingly, we do *not* see an improvement with 100 components vs 60 in the SVD transformation"
   ]
  },
  {
   "cell_type": "code",
   "execution_count": 56,
   "id": "75d6e933",
   "metadata": {
    "ExecuteTime": {
     "end_time": "2023-03-06T08:56:42.957471Z",
     "start_time": "2023-03-06T08:56:23.774891Z"
    }
   },
   "outputs": [
    {
     "name": "stdout",
     "output_type": "stream",
     "text": [
      "best score: 0.6413536816122024 with min_df:0.001 and n_components:50\n"
     ]
    }
   ],
   "source": [
    "t_args = {'ngram_range':(1,2),\n",
    "          'max_df':1.0}\n",
    "s_args = {'n_components':30}\n",
    "k_args = {}\n",
    "\n",
    "tKMgrid(t_args, 'min_df', [1, 0.001, 0.002], \n",
    "        s_args, 'n_components', [40, 50, 60, 70, 80])"
   ]
  },
  {
   "cell_type": "markdown",
   "id": "d1dcf3df",
   "metadata": {},
   "source": [
    "Try alternative **SVD algorithm**"
   ]
  },
  {
   "cell_type": "code",
   "execution_count": 50,
   "id": "a49a128e",
   "metadata": {
    "ExecuteTime": {
     "end_time": "2023-03-06T08:53:11.422973Z",
     "start_time": "2023-03-06T08:53:02.937453Z"
    }
   },
   "outputs": [
    {
     "name": "stdout",
     "output_type": "stream",
     "text": [
      "best score: 0.6402088021558583 with min_df:0.001 and max_df:1.0\n"
     ]
    }
   ],
   "source": [
    "t_args = {'ngram_range':(1,2)}\n",
    "s_args = {'n_components':60,\n",
    "          'algorithm':'arpack'}\n",
    "k_args = {}\n",
    "\n",
    "tKMgrid(t_args, 'min_df', [1, 0.001, 0.003], \n",
    "        t_args, 'max_df', [1.0, 0.99, 0.98])"
   ]
  },
  {
   "cell_type": "code",
   "execution_count": 54,
   "id": "53f74b47",
   "metadata": {
    "ExecuteTime": {
     "end_time": "2023-03-06T08:54:17.652798Z",
     "start_time": "2023-03-06T08:54:04.810238Z"
    }
   },
   "outputs": [
    {
     "name": "stdout",
     "output_type": "stream",
     "text": [
      "best score: 0.6415224635241492 with ngram_range:(1, 3) and n_components:100\n"
     ]
    }
   ],
   "source": [
    "t_args = {'min_df':0.001,\n",
    "          'max_df':1.0}\n",
    "s_args = {'algorithm':'arpack'}\n",
    "k_args = {}\n",
    "\n",
    "tKMgrid(t_args, 'ngram_range', [(1,2), (1,3), (1,4)], \n",
    "        s_args, 'n_components', [30, 60, 100])"
   ]
  },
  {
   "cell_type": "code",
   "execution_count": 57,
   "id": "59262e0e",
   "metadata": {
    "ExecuteTime": {
     "end_time": "2023-03-06T08:58:30.219150Z",
     "start_time": "2023-03-06T08:57:37.155745Z"
    }
   },
   "outputs": [
    {
     "name": "stdout",
     "output_type": "stream",
     "text": [
      "best score: 0.642464636382732 with ngram_range:(1, 2) and n_components:250\n"
     ]
    }
   ],
   "source": [
    "t_args = {'min_df':0.001,\n",
    "          'max_df':1.0}\n",
    "s_args = {'algorithm':'arpack'}\n",
    "k_args = {}\n",
    "\n",
    "tKMgrid(t_args, 'ngram_range', [(1,2), (1,3), (1,4)], \n",
    "        s_args, 'n_components', [130, 160, 200, 250, 350])"
   ]
  },
  {
   "cell_type": "code",
   "execution_count": 59,
   "id": "6e29ec98",
   "metadata": {
    "ExecuteTime": {
     "end_time": "2023-03-06T09:02:03.911727Z",
     "start_time": "2023-03-06T09:01:21.397406Z"
    }
   },
   "outputs": [
    {
     "name": "stdout",
     "output_type": "stream",
     "text": [
      "best score: 0.642464636382732 with min_df:0.001 and n_components:250\n"
     ]
    }
   ],
   "source": [
    "t_args = {'ngram_range':(1,2),\n",
    "          'max_df':1.0}\n",
    "s_args = {'algorithm':'arpack'}\n",
    "k_args = {}\n",
    "\n",
    "tKMgrid(t_args, 'min_df', [1, 0.001], \n",
    "        s_args, 'n_components', [240, 250, 260, 270])"
   ]
  },
  {
   "cell_type": "markdown",
   "id": "b8822342",
   "metadata": {},
   "source": [
    "See effect of **Kmeans initialization**:"
   ]
  },
  {
   "cell_type": "code",
   "execution_count": 60,
   "id": "d829fb09",
   "metadata": {
    "ExecuteTime": {
     "end_time": "2023-03-06T09:03:37.333516Z",
     "start_time": "2023-03-06T09:03:06.027031Z"
    }
   },
   "outputs": [
    {
     "name": "stdout",
     "output_type": "stream",
     "text": [
      "best score: 0.6416080134731444 with min_df:0.001 and n_components:240\n"
     ]
    }
   ],
   "source": [
    "t_args = {'ngram_range':(1,2),\n",
    "          'max_df':1.0}\n",
    "s_args = {'algorithm':'arpack'}\n",
    "k_args = {'init':'random'}\n",
    "\n",
    "tKMgrid(t_args, 'min_df', [1, 0.001], \n",
    "        s_args, 'n_components', [240, 250, 260])"
   ]
  },
  {
   "cell_type": "markdown",
   "id": "56f0602a",
   "metadata": {},
   "source": [
    "> random initialization hasn't improved performance with this set of parameters\n",
    "\n",
    "Narrowing things down:"
   ]
  },
  {
   "cell_type": "code",
   "execution_count": 62,
   "id": "72e25166",
   "metadata": {
    "ExecuteTime": {
     "end_time": "2023-03-06T09:06:26.158625Z",
     "start_time": "2023-03-06T09:05:25.388805Z"
    },
    "scrolled": true
   },
   "outputs": [
    {
     "name": "stdout",
     "output_type": "stream",
     "text": [
      "best score: 0.642464636382732 with min_df:0.001 and n_components:248\n"
     ]
    }
   ],
   "source": [
    "t_args = {'ngram_range':(1,2),\n",
    "          'max_df':1.0}\n",
    "s_args = {'algorithm':'arpack'}\n",
    "k_args = {}\n",
    "\n",
    "tKMgrid(t_args, 'min_df', [1, 0.001], \n",
    "        s_args, 'n_components', [246, 247, 248, 249, 250, 251])"
   ]
  },
  {
   "cell_type": "code",
   "execution_count": 64,
   "id": "73e0ccdf",
   "metadata": {
    "ExecuteTime": {
     "end_time": "2023-03-06T09:53:10.173911Z",
     "start_time": "2023-03-06T09:52:54.529018Z"
    }
   },
   "outputs": [
    {
     "data": {
      "text/plain": [
       "(0.642464636382732, 3.514698028564453, <__main__.TfidKmeans at 0x1dd70f256a0>)"
      ]
     },
     "execution_count": 64,
     "metadata": {},
     "output_type": "execute_result"
    },
    {
     "data": {
      "image/png": "[encoded data removed]",
      "text/plain": [
       "<Figure size 432x360 with 2 Axes>"
      ]
     },
     "metadata": {
      "needs_background": "light"
     },
     "output_type": "display_data"
    }
   ],
   "source": [
    "### BEST Kmeans:\n",
    "t_args = {'min_df':0.001,\n",
    "          'max_df':1.0,\n",
    "          'ngram_range':(1,2)}\n",
    "s_args = {'algorithm':'arpack',\n",
    "          'n_components':248}\n",
    "k_args = {}\n",
    "TfidKmeans().evaluate(trn, ytrn, vld, yvld, t_args, s_args, k_args, cm_plot=True)"
   ]
  },
  {
   "cell_type": "markdown",
   "id": "37aa3c4e",
   "metadata": {},
   "source": [
    "> This model performs worse than the best NMF model. It is strongly skewing towards negative labels, almost completely avoiding neutral labels."
   ]
  },
  {
   "cell_type": "markdown",
   "id": "6a867140",
   "metadata": {},
   "source": [
    "### 3c) Tuning GaussianMixture-based model\n",
    "For the GaussianMixture model, we will try adjusting the initialization (as we did for Kmeans) as well as covariance_type"
   ]
  },
  {
   "cell_type": "code",
   "execution_count": 65,
   "id": "5f029f51",
   "metadata": {
    "ExecuteTime": {
     "end_time": "2023-03-06T09:09:45.380233Z",
     "start_time": "2023-03-06T09:09:45.365587Z"
    }
   },
   "outputs": [],
   "source": [
    "def tGMgrid(arg_dic1, param1, range1, arg_dic2, param2, range2, \n",
    "               train=trn, ytrain=ytrn, validation=vld, yvalidation=yvld):\n",
    "    best_score = 0\n",
    "    best_pair = None\n",
    "\n",
    "    for i in range1:\n",
    "        arg_dic1[param1] = i\n",
    "        for j in range2:\n",
    "            arg_dic2[param2] = j\n",
    "            result = TfidGauss().evaluate(trn, ytrn, vld, yvld, t_args, s_args, g_args)\n",
    "            if result[0] > best_score:\n",
    "                best_score = result[0]\n",
    "                best_pair = (i,j)\n",
    "    print(f\"best score: {best_score} with {param1}:{best_pair[0]} and {param2}:{best_pair[1]}\")"
   ]
  },
  {
   "cell_type": "code",
   "execution_count": 68,
   "id": "27af19ff",
   "metadata": {
    "ExecuteTime": {
     "end_time": "2023-03-06T09:13:02.399062Z",
     "start_time": "2023-03-06T09:12:36.451612Z"
    }
   },
   "outputs": [
    {
     "name": "stdout",
     "output_type": "stream",
     "text": [
      "best score: 0.6399456835837383 with ngram_range:(1, 2) and n_components:250\n"
     ]
    }
   ],
   "source": [
    "t_args = {'min_df':0.001,\n",
    "          'max_df':1.0}\n",
    "s_args = {'algorithm':'arpack'}\n",
    "g_args = {}\n",
    "\n",
    "tGMgrid(t_args, 'ngram_range', [(1,2), (1,3)], \n",
    "        s_args, 'n_components', [50, 100, 250])"
   ]
  },
  {
   "cell_type": "markdown",
   "id": "d5e10f94",
   "metadata": {},
   "source": [
    "> this early result suggests this model may have similar parameter sensitivities as the Kmeans"
   ]
  },
  {
   "cell_type": "code",
   "execution_count": 70,
   "id": "071321ab",
   "metadata": {
    "ExecuteTime": {
     "end_time": "2023-03-06T09:16:01.475872Z",
     "start_time": "2023-03-06T09:15:40.978802Z"
    }
   },
   "outputs": [
    {
     "name": "stdout",
     "output_type": "stream",
     "text": [
      "best score: 0.6241560050870003 with ngram_range:(1, 4) and n_components:250\n"
     ]
    }
   ],
   "source": [
    "t_args = {'min_df':0.001,\n",
    "          'max_df':1.0}\n",
    "s_args = {}\n",
    "g_args = {}\n",
    "\n",
    "tGMgrid(t_args, 'ngram_range', [(1,2), (1,3), (1,4)], \n",
    "        s_args, 'n_components', [50, 100, 250])"
   ]
  },
  {
   "cell_type": "code",
   "execution_count": 72,
   "id": "04b06886",
   "metadata": {
    "ExecuteTime": {
     "end_time": "2023-03-06T09:19:05.088536Z",
     "start_time": "2023-03-06T09:18:28.006333Z"
    }
   },
   "outputs": [
    {
     "name": "stdout",
     "output_type": "stream",
     "text": [
      "best score: 0.6264065883567537 with ngram_range:(1, 5) and n_components:270\n"
     ]
    }
   ],
   "source": [
    "t_args = {'min_df':0.001,\n",
    "          'max_df':1.0}\n",
    "s_args = {}\n",
    "g_args = {}\n",
    "\n",
    "tGMgrid(t_args, 'ngram_range', [(1,3), (1,4), (1,5)], \n",
    "        s_args, 'n_components', [250, 270, 300])"
   ]
  },
  {
   "cell_type": "markdown",
   "id": "65270b30",
   "metadata": {},
   "source": [
    "> We haven't surpassed the performance with arpack, so we will return to that algorithm\n",
    "\n",
    "Now to adjust **GaussianMixture covariance_type**:"
   ]
  },
  {
   "cell_type": "code",
   "execution_count": 76,
   "id": "504c4ab6",
   "metadata": {
    "ExecuteTime": {
     "end_time": "2023-03-06T09:25:18.335500Z",
     "start_time": "2023-03-06T09:24:33.480059Z"
    }
   },
   "outputs": [
    {
     "name": "stdout",
     "output_type": "stream",
     "text": [
      "best score: 0.6428453923914619 with ngram_range:(1, 3) and n_components:250\n"
     ]
    }
   ],
   "source": [
    "t_args = {'min_df':0.001,\n",
    "          'max_df':1.0}\n",
    "s_args = {'algorithm':'arpack'}\n",
    "g_args = {'covariance_type':'tied'}\n",
    "\n",
    "tGMgrid(t_args, 'ngram_range', [(1,2), (1,3), (1,4)], \n",
    "        s_args, 'n_components', [200, 250, 300])"
   ]
  },
  {
   "cell_type": "code",
   "execution_count": 77,
   "id": "362aba7a",
   "metadata": {
    "ExecuteTime": {
     "end_time": "2023-03-06T09:25:43.340458Z",
     "start_time": "2023-03-06T09:25:19.084506Z"
    }
   },
   "outputs": [
    {
     "name": "stdout",
     "output_type": "stream",
     "text": [
      "best score: 0.5560530666130044 with ngram_range:(1, 2) and n_components:300\n"
     ]
    }
   ],
   "source": [
    "t_args = {'min_df':0.001,\n",
    "          'max_df':1.0}\n",
    "s_args = {'algorithm':'arpack'}\n",
    "g_args = {'covariance_type':'diag'}\n",
    "\n",
    "tGMgrid(t_args, 'ngram_range', [(1,2), (1,3), (1,4)], \n",
    "        s_args, 'n_components', [200, 250, 300])"
   ]
  },
  {
   "cell_type": "code",
   "execution_count": 78,
   "id": "e720db2e",
   "metadata": {
    "ExecuteTime": {
     "end_time": "2023-03-06T09:26:19.796209Z",
     "start_time": "2023-03-06T09:25:43.999560Z"
    }
   },
   "outputs": [
    {
     "name": "stdout",
     "output_type": "stream",
     "text": [
      "best score: 0.6527401191118014 with ngram_range:(1, 3) and n_components:250\n"
     ]
    }
   ],
   "source": [
    "t_args = {'min_df':0.001,\n",
    "          'max_df':1.0}\n",
    "s_args = {'algorithm':'arpack'}\n",
    "g_args = {'covariance_type':'spherical'}\n",
    "\n",
    "tGMgrid(t_args, 'ngram_range', [(1,2), (1,3), (1,4)], \n",
    "        s_args, 'n_components', [200, 250, 300])"
   ]
  },
  {
   "cell_type": "markdown",
   "id": "f1892500",
   "metadata": {},
   "source": [
    "Try **random initialization**:"
   ]
  },
  {
   "cell_type": "code",
   "execution_count": 79,
   "id": "3cff5fd3",
   "metadata": {
    "ExecuteTime": {
     "end_time": "2023-03-06T09:27:22.723473Z",
     "start_time": "2023-03-06T09:26:48.326673Z"
    }
   },
   "outputs": [
    {
     "name": "stdout",
     "output_type": "stream",
     "text": [
      "best score: 0.6615605931513042 with ngram_range:(1, 4) and n_components:300\n"
     ]
    }
   ],
   "source": [
    "t_args = {'min_df':0.001,\n",
    "          'max_df':1.0}\n",
    "s_args = {'algorithm':'arpack'}\n",
    "g_args = {'covariance_type':'spherical',\n",
    "          'init_params':'random'}\n",
    "\n",
    "tGMgrid(t_args, 'ngram_range', [(1,2), (1,3), (1,4)], \n",
    "        s_args, 'n_components', [200, 250, 300])"
   ]
  },
  {
   "cell_type": "code",
   "execution_count": 80,
   "id": "2a069d53",
   "metadata": {
    "ExecuteTime": {
     "end_time": "2023-03-06T09:30:03.387434Z",
     "start_time": "2023-03-06T09:28:43.933638Z"
    }
   },
   "outputs": [
    {
     "name": "stdout",
     "output_type": "stream",
     "text": [
      "best score: 0.677766992089116 with ngram_range:(1, 5) and n_components:350\n"
     ]
    }
   ],
   "source": [
    "t_args = {'min_df':0.001,\n",
    "          'max_df':1.0}\n",
    "s_args = {'algorithm':'arpack'}\n",
    "g_args = {'covariance_type':'spherical',\n",
    "          'init_params':'random'}\n",
    "\n",
    "tGMgrid(t_args, 'ngram_range', [(1,3), (1,4), (1,5)], \n",
    "        s_args, 'n_components', [290, 300, 310, 350])"
   ]
  },
  {
   "cell_type": "markdown",
   "id": "f847c0ca",
   "metadata": {},
   "source": [
    "> This model seems be responding to more higher Tfid and SVD dimensions"
   ]
  },
  {
   "cell_type": "code",
   "execution_count": 82,
   "id": "8867d9ca",
   "metadata": {
    "ExecuteTime": {
     "end_time": "2023-03-06T09:34:46.350717Z",
     "start_time": "2023-03-06T09:33:12.336049Z"
    }
   },
   "outputs": [
    {
     "name": "stdout",
     "output_type": "stream",
     "text": [
      "best score: 0.6871619348053293 with ngram_range:(1, 6) and n_components:400\n"
     ]
    }
   ],
   "source": [
    "t_args = {'min_df':0.001,\n",
    "          'max_df':1.0}\n",
    "s_args = {'algorithm':'arpack'}\n",
    "g_args = {'covariance_type':'spherical',\n",
    "          'init_params':'random'}\n",
    "\n",
    "tGMgrid(t_args, 'ngram_range', [(1,5), (1,6), (1,7)], \n",
    "        s_args, 'n_components', [350, 370, 400])"
   ]
  },
  {
   "cell_type": "code",
   "execution_count": 83,
   "id": "46754578",
   "metadata": {
    "ExecuteTime": {
     "end_time": "2023-03-06T09:37:42.475053Z",
     "start_time": "2023-03-06T09:35:26.551672Z"
    }
   },
   "outputs": [
    {
     "name": "stdout",
     "output_type": "stream",
     "text": [
      "best score: 0.6942272485505848 with ngram_range:(1, 7) and n_components:450\n"
     ]
    }
   ],
   "source": [
    "t_args = {'min_df':0.001,\n",
    "          'max_df':1.0}\n",
    "s_args = {'algorithm':'arpack'}\n",
    "g_args = {'covariance_type':'spherical',\n",
    "          'init_params':'random'}\n",
    "\n",
    "tGMgrid(t_args, 'ngram_range', [(1,5), (1,6), (1,7)], \n",
    "        s_args, 'n_components', [450, 500])"
   ]
  },
  {
   "cell_type": "code",
   "execution_count": 84,
   "id": "04c05137",
   "metadata": {
    "ExecuteTime": {
     "end_time": "2023-03-06T09:42:00.332715Z",
     "start_time": "2023-03-06T09:38:41.030134Z"
    }
   },
   "outputs": [
    {
     "name": "stdout",
     "output_type": "stream",
     "text": [
      "best score: 0.6942272485505848 with ngram_range:(1, 7) and n_components:450\n"
     ]
    }
   ],
   "source": [
    "t_args = {'min_df':0.001,\n",
    "          'max_df':1.0}\n",
    "s_args = {'algorithm':'arpack'}\n",
    "g_args = {'covariance_type':'spherical',\n",
    "          'init_params':'random'}\n",
    "\n",
    "tGMgrid(t_args, 'ngram_range', [(1,6), (1,7), (1,8)], \n",
    "        s_args, 'n_components', [450, 500, 600])"
   ]
  },
  {
   "cell_type": "code",
   "execution_count": 85,
   "id": "cb40ce62",
   "metadata": {
    "ExecuteTime": {
     "end_time": "2023-03-06T09:44:35.421794Z",
     "start_time": "2023-03-06T09:42:50.306407Z"
    }
   },
   "outputs": [
    {
     "name": "stdout",
     "output_type": "stream",
     "text": [
      "best score: 0.6871619348053293 with ngram_range:(1, 6) and n_components:400\n"
     ]
    }
   ],
   "source": [
    "t_args = {'min_df':0.001,\n",
    "          'max_df':1.0}\n",
    "s_args = {'algorithm':'arpack'}\n",
    "g_args = {'covariance_type':'spherical',\n",
    "          'init_params':'random'}\n",
    "\n",
    "tGMgrid(t_args, 'ngram_range', [(1,6), (1,7), (1,8)], \n",
    "        s_args, 'n_components', [300, 350, 400])"
   ]
  },
  {
   "cell_type": "code",
   "execution_count": 88,
   "id": "4196b0c9",
   "metadata": {
    "ExecuteTime": {
     "end_time": "2023-03-06T09:52:37.309316Z",
     "start_time": "2023-03-06T09:50:05.993212Z"
    }
   },
   "outputs": [
    {
     "name": "stdout",
     "output_type": "stream",
     "text": [
      "best score: 0.6942272485505848 with n_components:450 and init_params:random\n"
     ]
    }
   ],
   "source": [
    "t_args = {'min_df':0.001,\n",
    "          'max_df':1.0,\n",
    "          'ngram_range':(1,7)}\n",
    "s_args = {'algorithm':'arpack'}\n",
    "g_args = {'covariance_type':'spherical'}\n",
    "\n",
    "tGMgrid(s_args, 'n_components', [448, 449, 450, 451, 452], \n",
    "        g_args, 'init_params', ['random','kmeans'])"
   ]
  },
  {
   "cell_type": "code",
   "execution_count": 89,
   "id": "4408ae5b",
   "metadata": {
    "ExecuteTime": {
     "end_time": "2023-03-06T09:53:10.173911Z",
     "start_time": "2023-03-06T09:52:54.529018Z"
    }
   },
   "outputs": [
    {
     "data": {
      "text/plain": [
       "(0.6942272485505848, 15.325878143310547, <__main__.TfidGauss at 0x1dd71a3ba60>)"
      ]
     },
     "execution_count": 89,
     "metadata": {},
     "output_type": "execute_result"
    },
    {
     "data": {
      "image/png": "[encoded data removed]",
      "text/plain": [
       "<Figure size 432x360 with 2 Axes>"
      ]
     },
     "metadata": {
      "needs_background": "light"
     },
     "output_type": "display_data"
    }
   ],
   "source": [
    "### BEST Gaussian:\n",
    "t_args = {'min_df':0.001,\n",
    "          'max_df':1.0,\n",
    "          'ngram_range':(1,7)}\n",
    "s_args = {'algorithm':'arpack',\n",
    "          'n_components': 450}\n",
    "g_args = {'covariance_type':'spherical',\n",
    "          'init_params':'random'}\n",
    "TfidGauss().evaluate(trn, ytrn, vld, yvld, t_args, s_args, g_args, cm_plot=True)"
   ]
  },
  {
   "cell_type": "markdown",
   "id": "0312f685",
   "metadata": {},
   "source": [
    "> The model seems to be doing a decent job of correctly identifying negative tweets, but misidentifying neutral (as True). Positive tweets are more often labeled correctly, but many were mislabeled."
   ]
  },
  {
   "cell_type": "markdown",
   "id": "79d565e7",
   "metadata": {},
   "source": [
    "# 4) Comparisons & Conclusions\n",
    "We will retrain our best models on the combined training and validation sets and test them against the test set."
   ]
  },
  {
   "cell_type": "code",
   "execution_count": 90,
   "id": "f02f09eb",
   "metadata": {
    "ExecuteTime": {
     "end_time": "2023-03-06T09:53:48.641408Z",
     "start_time": "2023-03-06T09:53:29.164925Z"
    }
   },
   "outputs": [
    {
     "data": {
      "text/plain": [
       "(0.7008715429171295, 19.150943517684937, <__main__.TfidNMF at 0x1dd71a3b5b0>)"
      ]
     },
     "execution_count": 90,
     "metadata": {},
     "output_type": "execute_result"
    },
    {
     "data": {
      "image/png": "[encoded data removed]",
      "text/plain": [
       "<Figure size 432x360 with 2 Axes>"
      ]
     },
     "metadata": {
      "needs_background": "light"
     },
     "output_type": "display_data"
    }
   ],
   "source": [
    "### BEST NMF:\n",
    "t_args = {'min_df':1,\n",
    "          'max_df':1.0,\n",
    "          'ngram_range':(1,5)}\n",
    "n_args = {'init':'nndsvda', # changed to work with 'mu' solver\n",
    "          'solver':'mu', # changed to work with k-l loss\n",
    "          'beta_loss': 'kullback-leibler',}\n",
    "TfidNMF().evaluate(non_test, ynon_test, tst, ytst, t_args, n_args, cm_plot=True)"
   ]
  },
  {
   "cell_type": "code",
   "execution_count": 91,
   "id": "8b77a7b6",
   "metadata": {
    "ExecuteTime": {
     "end_time": "2023-03-06T09:53:54.917150Z",
     "start_time": "2023-03-06T09:53:49.350320Z"
    }
   },
   "outputs": [
    {
     "data": {
      "text/plain": [
       "(0.6244363622841833, 5.258326768875122, <__main__.TfidKmeans at 0x1dd0cb0f8b0>)"
      ]
     },
     "execution_count": 91,
     "metadata": {},
     "output_type": "execute_result"
    },
    {
     "data": {
      "image/png": "[encoded data removed]",
      "text/plain": [
       "<Figure size 432x360 with 2 Axes>"
      ]
     },
     "metadata": {
      "needs_background": "light"
     },
     "output_type": "display_data"
    }
   ],
   "source": [
    "### BEST Kmeans:\n",
    "t_args = {'min_df':0.001,\n",
    "          'max_df':1.0,\n",
    "          'ngram_range':(1,2)}\n",
    "s_args = {'algorithm':'arpack',\n",
    "          'n_components':248}\n",
    "k_args = {}\n",
    "TfidKmeans().evaluate(non_test, ynon_test, tst, ytst, t_args, s_args, k_args, cm_plot=True)"
   ]
  },
  {
   "cell_type": "code",
   "execution_count": 92,
   "id": "7d513831",
   "metadata": {
    "ExecuteTime": {
     "end_time": "2023-03-06T09:54:09.552063Z",
     "start_time": "2023-03-06T09:53:55.574099Z"
    }
   },
   "outputs": [
    {
     "data": {
      "text/plain": [
       "(0.6435916811362665, 13.68778944015503, <__main__.TfidGauss at 0x1dd0d2a2b20>)"
      ]
     },
     "execution_count": 92,
     "metadata": {},
     "output_type": "execute_result"
    },
    {
     "data": {
      "image/png": "[encoded data removed]",
      "text/plain": [
       "<Figure size 432x360 with 2 Axes>"
      ]
     },
     "metadata": {
      "needs_background": "light"
     },
     "output_type": "display_data"
    }
   ],
   "source": [
    "### BEST Gaussian:\n",
    "t_args = {'min_df':0.001,\n",
    "          'max_df':1.0,\n",
    "          'ngram_range':(1,7)}\n",
    "s_args = {'algorithm':'arpack',\n",
    "          'n_components': 450}\n",
    "g_args = {'covariance_type':'spherical',\n",
    "          'init_params':'random'}\n",
    "TfidGauss().evaluate(non_test, ynon_test, tst, ytst, t_args, s_args, g_args, cm_plot=True)"
   ]
  },
  {
   "cell_type": "markdown",
   "id": "502b82f3",
   "metadata": {},
   "source": [
    "### Conclusion\n",
    "The NMF model performed best on the test set.\n",
    "\n",
    "All three models suffered from a bias to over-predict negative labels on the test set. In fact, in all cases except NMF labeling positive data, the models mislabeled non-negative tweets more than they correctly labeled them.\n",
    "\n",
    "It seems possible (likely?) that unsupervised methods are not the best tool for this task. We haven't attempted any supervised techniques here (outside the focus of this class), but some of the discussion on Kaggle suggests people have achieved 90% accuracy using supervised techniques."
   ]
  }
 ],
 "metadata": {
  "kernelspec": {
   "display_name": "Python 3 (ipykernel)",
   "language": "python",
   "name": "python3"
  },
  "language_info": {
   "codemirror_mode": {
    "name": "ipython",
    "version": 3
   },
   "file_extension": ".py",
   "mimetype": "text/x-python",
   "name": "python",
   "nbconvert_exporter": "python",
   "pygments_lexer": "ipython3",
   "version": "3.9.12"
  },
  "toc": {
   "base_numbering": 1,
   "nav_menu": {},
   "number_sections": false,
   "sideBar": true,
   "skip_h1_title": false,
   "title_cell": "Table of Contents",
   "title_sidebar": "Contents",
   "toc_cell": false,
   "toc_position": {},
   "toc_section_display": true,
   "toc_window_display": false
  },
  "varInspector": {
   "cols": {
    "lenName": 16,
    "lenType": 16,
    "lenVar": 40
   },
   "kernels_config": {
    "python": {
     "delete_cmd_postfix": "",
     "delete_cmd_prefix": "del ",
     "library": "var_list.py",
     "varRefreshCmd": "print(var_dic_list())"
    },
    "r": {
     "delete_cmd_postfix": ") ",
     "delete_cmd_prefix": "rm(",
     "library": "var_list.r",
     "varRefreshCmd": "cat(var_dic_list()) "
    }
   },
   "types_to_exclude": [
    "module",
    "function",
    "builtin_function_or_method",
    "instance",
    "_Feature"
   ],
   "window_display": false
  }
 },
 "nbformat": 4,
 "nbformat_minor": 5
}
